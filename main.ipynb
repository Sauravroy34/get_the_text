{
 "cells": [
  {
   "cell_type": "code",
   "execution_count": 1,
   "id": "4742d56e",
   "metadata": {},
   "outputs": [],
   "source": [
    "from torch.utils.data import Dataset\n",
    "from torch.utils.data import DataLoader\n",
    "import torchvision.transforms as transforms\n",
    "from PIL import Image\n",
    "import torch\n",
    "import os\n",
    "import torch.nn as nn\n",
    "import math\n",
    "from ocr_label_converter import OCRLabelConverter"
   ]
  },
  {
   "cell_type": "code",
   "execution_count": 2,
   "id": "409ea24c",
   "metadata": {},
   "outputs": [],
   "source": [
    "alphabet = \"\"\"Only thewigsofrcvdampbkuq.$A-210xT5'MDL,RYHJ\"ISPWENj&BC93VGFKz();#:!7U64Q8?+*ZX/%\"\"\""
   ]
  },
  {
   "cell_type": "code",
   "execution_count": 3,
   "id": "d4bc4808",
   "metadata": {},
   "outputs": [],
   "source": [
    "# Update SynthCollator to encode labels\n",
    "class SynthCollator(object):\n",
    "    def __init__(self, alphabet=alphabet):\n",
    "        self.converter = OCRLabelConverter(alphabet)\n",
    "\n",
    "    def __call__(self, batch):\n",
    "        width = [item['img'].shape[2] for item in batch]\n",
    "        indexes = [item['idx'] for item in batch]\n",
    "        imgs = torch.ones([len(batch), batch[0]['img'].shape[0], batch[0]['img'].shape[1], \n",
    "                           max(width)], dtype=torch.float32)\n",
    "        for idx, item in enumerate(batch):\n",
    "            try:\n",
    "                imgs[idx, :, :, 0:item['img'].shape[2]] = item['img']\n",
    "            except:\n",
    "                print(imgs.shape)\n",
    "        \n",
    "        # Encode labels\n",
    "        labels = [item['label'] for item in batch]\n",
    "        encoded_labels, label_lengths = self.converter.encode(labels)  # Encode all labels in the batch\n",
    "        \n",
    "        item = {\n",
    "            'img': imgs,  # (batch_size, 1, H, max_width)\n",
    "            'idx': indexes,\n",
    "            'label': encoded_labels,  # Tensor of encoded labels\n",
    "            'label_lengths': label_lengths  # Tensor of label lengths\n",
    "        }\n",
    "        return item"
   ]
  },
  {
   "cell_type": "code",
   "execution_count": 4,
   "id": "3a8c49ae",
   "metadata": {},
   "outputs": [],
   "source": [
    "#custom \n",
    "class Ocr_Dataset(Dataset):\n",
    "    def __init__(self,dir ,collate_fn = None):\n",
    "        self.dir = dir\n",
    "        self.imgpath = os.listdir(dir)\n",
    "        f = lambda x: os.path.join(self.dir, x)\n",
    "        self.images_path = list(map(f,self.imgpath))\n",
    "        transform_list =  [\n",
    "                            transforms.RandomRotation(5), \n",
    "                            transforms.Grayscale(1),\n",
    "                            transforms.ToTensor(),\n",
    "                            transforms.Normalize((0.5,), (0.5,)) \n",
    "                            ]\n",
    "        self.transform = transforms.Compose(transform_list)\n",
    "\n",
    "        \n",
    "        self.collate_fn = SynthCollator()\n",
    "    \n",
    "    def __len__(self):\n",
    "        return len(self.imgpath)\n",
    "    \n",
    "    def __getitem__(self, index):\n",
    "        image_path = self.images_path[index]\n",
    "        \n",
    "        image_name = os.path.basename(image_path)\n",
    "        img = Image.open(image_path)\n",
    "        if self.transform is not None:\n",
    "            img = self.transform(img)\n",
    "            \n",
    "        item = {'img':img,'idx':index}\n",
    "        item[\"label\"] = image_name.split(\"_\")[0]\n",
    "        return item\n",
    "            \n",
    "            \n",
    "        "
   ]
  },
  {
   "cell_type": "code",
   "execution_count": 5,
   "id": "99498673",
   "metadata": {},
   "outputs": [
    {
     "data": {
      "text/plain": [
       "<matplotlib.image.AxesImage at 0x7e6073929850>"
      ]
     },
     "execution_count": 5,
     "metadata": {},
     "output_type": "execute_result"
    },
    {
     "data": {
      "image/png": "[encoded data removed]",
      "text/plain": [
       "<Figure size 640x480 with 1 Axes>"
      ]
     },
     "metadata": {},
     "output_type": "display_data"
    }
   ],
   "source": [
    "dir = \"/home/saurav/Desktop/Get_The_Text/data/train\"\n",
    "import matplotlib.pyplot as plt\n",
    "import numpy as np\n",
    "dataset = Ocr_Dataset(dir)\n",
    "len(dataset)\n",
    "\n",
    "img = np.asarray(dataset[0]['img'])  \n",
    "img = np.squeeze(img)\n",
    "plt.imshow(img,cmap='gray')\n"
   ]
  },
  {
   "cell_type": "code",
   "execution_count": 6,
   "id": "885e6a96",
   "metadata": {},
   "outputs": [],
   "source": [
    "class BidirectionalLSTM(nn.Module):\n",
    "\n",
    "    def __init__(self, nIn, nHidden, nOut):\n",
    "        super(BidirectionalLSTM, self).__init__()\n",
    "        self.rnn = nn.LSTM(nIn, nHidden, bidirectional=True)\n",
    "        self.embedding = nn.Linear(nHidden * 2, nOut)\n",
    "    def forward(self, input):\n",
    "        self.rnn.flatten_parameters()\n",
    "        recurrent, _ = self.rnn(input)\n",
    "        T, b, h = recurrent.size()\n",
    "        t_rec = recurrent.view(T * b, h)\n",
    "        output = self.embedding(t_rec)  # [T * b, nOut]\n",
    "        output = output.view(T, b, -1)\n",
    "        return output\n",
    "\n",
    "class CRNN(nn.Module):\n",
    "\n",
    "    def __init__(self, leakyRelu=False):\n",
    "        super(CRNN, self).__init__()\n",
    "\n",
    "        ks = [3, 3, 3, 3, 3, 3, 2]\n",
    "        ps = [1, 1, 1, 1, 1, 1, 0]\n",
    "        ss = [1, 1, 1, 1, 1, 1, 1]\n",
    "        nm = [64, 128, 256, 256, 512, 512, 512]\n",
    "\n",
    "        cnn = nn.Sequential()\n",
    "\n",
    "        def convRelu(i, batchNormalization=False):\n",
    "            nIn = 1 if i == 0 else nm[i - 1]\n",
    "            nOut = nm[i]\n",
    "            cnn.add_module('conv{0}'.format(i),\n",
    "                           nn.Conv2d(nIn, nOut, ks[i], ss[i], ps[i]))\n",
    "            if batchNormalization:\n",
    "                cnn.add_module('batchnorm{0}'.format(i), nn.BatchNorm2d(nOut))\n",
    "            if leakyRelu:\n",
    "                cnn.add_module('relu{0}'.format(i),\n",
    "                               nn.LeakyReLU(0.2, inplace=True))\n",
    "            else:\n",
    "                cnn.add_module('relu{0}'.format(i), nn.ReLU(True))\n",
    "\n",
    "        convRelu(0)\n",
    "        cnn.add_module('pooling{0}'.format(0), nn.MaxPool2d(2, 2))  # 64x16x64\n",
    "        convRelu(1)\n",
    "        cnn.add_module('pooling{0}'.format(1), nn.MaxPool2d(2, 2))  # 128x8x32\n",
    "        convRelu(2, True)\n",
    "        convRelu(3)\n",
    "        cnn.add_module('pooling{0}'.format(2),\n",
    "                       nn.MaxPool2d((2, 2), (2, 1), (0, 1)))  # 256x4x16\n",
    "        convRelu(4, True)\n",
    "        convRelu(5)\n",
    "        cnn.add_module('pooling{0}'.format(3),\n",
    "                       nn.MaxPool2d((2, 2), (2, 1), (0, 1)))  # 512x2x16\n",
    "        convRelu(6, True)  # 512x1x16\n",
    "        self.cnn = cnn\n",
    "        self.rnn = nn.Sequential()\n",
    "        self.rnn = nn.Sequential(\n",
    "            BidirectionalLSTM(512, 256, 256),\n",
    "            BidirectionalLSTM(256, 256, len(alphabet)))\n",
    "\n",
    "\n",
    "    def forward(self, input):\n",
    "        # conv features\n",
    "        conv = self.cnn(input)\n",
    "        b, c, h, w = conv.size()\n",
    "        assert h == 1, \"the height of conv must be 1\"\n",
    "        conv = conv.squeeze(2)\n",
    "        conv = conv.permute(2, 0, 1)  # [w, b, c]\n",
    "        # rnn features\n",
    "        output = self.rnn(conv)\n",
    "        output = output.transpose(1,0) #Tbh to bth\n",
    "        return output"
   ]
  },
  {
   "cell_type": "code",
   "execution_count": 7,
   "id": "6d8c5814",
   "metadata": {},
   "outputs": [],
   "source": [
    "class CustomCTCLoss(torch.nn.Module):\n",
    "    # T x B x H => Softmax on dimension 2\n",
    "    def __init__(self, dim=2):\n",
    "        super().__init__()\n",
    "        self.dim = dim\n",
    "        self.ctc_loss = torch.nn.CTCLoss(reduction='mean', zero_infinity=True)\n",
    "\n",
    "    def forward(self, logits, labels,\n",
    "            prediction_sizes, target_sizes):\n",
    "        EPS = 1e-7\n",
    "        loss = self.ctc_loss(logits, labels, prediction_sizes, target_sizes)\n",
    "        loss = self.sanitize(loss)\n",
    "        return self.debug(loss, logits, labels, prediction_sizes, target_sizes)\n",
    "    \n",
    "    def sanitize(self, loss):\n",
    "        EPS = 1e-7\n",
    "        if abs(loss.item() - float('inf')) < EPS:\n",
    "            return torch.zeros_like(loss)\n",
    "        if math.isnan(loss.item()):\n",
    "            return torch.zeros_like(loss)\n",
    "        return loss\n",
    "\n",
    "    def debug(self, loss, logits, labels,\n",
    "            prediction_sizes, target_sizes):\n",
    "        if math.isnan(loss.item()):\n",
    "            print(\"Loss:\", loss)\n",
    "            print(\"logits:\", logits)\n",
    "            print(\"labels:\", labels)\n",
    "            print(\"prediction_sizes:\", prediction_sizes)\n",
    "            print(\"target_sizes:\", target_sizes)\n",
    "            raise Exception(\"NaN loss obtained. But why?\")\n",
    "        return loss"
   ]
  },
  {
   "cell_type": "code",
   "execution_count": 63,
   "id": "232b0741",
   "metadata": {},
   "outputs": [],
   "source": [
    "def loss_func(logits,target,pred_size,target_size):\n",
    "    return CustomCTCLoss(logits,target,pred_size,target_size)\n",
    "converter = OCRLabelConverter(alphabet)\n",
    " "
   ]
  },
  {
   "cell_type": "code",
   "execution_count": 8,
   "id": "01a38ca8",
   "metadata": {},
   "outputs": [
    {
     "name": "stderr",
     "output_type": "stream",
     "text": [
      "/home/saurav/.local/lib/python3.12/site-packages/torch/utils/data/dataloader.py:665: UserWarning: 'pin_memory' argument is set as true but no accelerator is found, then device pinned memory won't be used.\n",
      "  warnings.warn(warn_msg)\n"
     ]
    },
    {
     "name": "stdout",
     "output_type": "stream",
     "text": [
      "Batch images shape: torch.Size([32, 1, 32, 165])\n",
      "Encoded labels shape: torch.Size([270])\n",
      "Label lengths: tensor([ 8,  7, 12, 10,  9, 15,  7,  4,  6, 10,  9,  9, 13, 10,  7, 10,  8, 12,\n",
      "         4,  7, 11,  6,  7,  6,  7,  4,  8, 10,  6, 12,  7,  9],\n",
      "       dtype=torch.int32)\n"
     ]
    }
   ],
   "source": [
    "train_dataloader = DataLoader(\n",
    "    dataset=dataset,\n",
    "    batch_size=32,\n",
    "    shuffle=True,\n",
    "    num_workers=4,\n",
    "    pin_memory=True,\n",
    "    collate_fn=SynthCollator()\n",
    ")\n",
    "for batch in train_dataloader:\n",
    "    images = batch['img']  # (batch_size, 1, H, max_width)\n",
    "    labels = batch['label']  # Encoded labels tensor\n",
    "    label_lengths = batch['label_lengths']  # Tensor of label lengths\n",
    "    print(f\"Batch images shape: {images.shape}\")\n",
    "    print(f\"Encoded labels shape: {labels.shape}\")\n",
    "    print(f\"Label lengths: {label_lengths}\")\n",
    "    break"
   ]
  },
  {
   "cell_type": "code",
   "execution_count": 11,
   "id": "f42a1c14",
   "metadata": {},
   "outputs": [
    {
     "name": "stdout",
     "output_type": "stream",
     "text": [
      "Epoch [1/10], Average Loss: 2.2862\n",
      "Epoch [2/10], Average Loss: 0.1431\n",
      "Epoch [3/10], Average Loss: 0.0369\n",
      "Epoch [4/10], Average Loss: 0.0205\n",
      "Epoch [5/10], Average Loss: 0.0200\n",
      "Epoch [6/10], Average Loss: 0.0116\n",
      "Epoch [7/10], Average Loss: 0.0122\n",
      "Epoch [8/10], Average Loss: 0.0153\n",
      "Epoch [9/10], Average Loss: 0.0106\n",
      "Epoch [10/10], Average Loss: 0.0083\n"
     ]
    }
   ],
   "source": [
    "# Device configuration\n",
    "device = torch.device('cuda' if torch.cuda.is_available() else 'cpu')\n",
    "\n",
    "# Initialize the model\n",
    "model = CRNN().to(device)\n",
    "model.train()\n",
    "\n",
    "# Loss and optimizer\n",
    "criterion = CustomCTCLoss()\n",
    "optimizer = torch.optim.Adam(model.parameters(), lr=0.001)\n",
    "\n",
    "# Training loop\n",
    "num_epochs = 10\n",
    "batch_size = 32\n",
    "\n",
    "for epoch in range(num_epochs):\n",
    "    total_loss = 0\n",
    "    for batch in train_dataloader:\n",
    "        # Get the batch data\n",
    "        images = batch['img'].to(device)  # (actual_batch_size, 1, H, max_width)\n",
    "        labels = batch['label'].to(device)  # Encoded labels\n",
    "        label_lengths = batch['label_lengths'].to(device)  # (actual_batch_size,)\n",
    "        \n",
    "        # Get the actual batch size from the batch\n",
    "        actual_batch_size = images.shape[0]\n",
    "        \n",
    "        # Forward pass\n",
    "        optimizer.zero_grad()\n",
    "        logits = model(images)  # (actual_batch_size, T, num_classes)\n",
    "        \n",
    "        # CTC loss expects (T, batch_size, num_classes)\n",
    "        logits = logits.transpose(0, 1)  # (T, actual_batch_size, num_classes)\n",
    "        log_probs = logits.log_softmax(2)  # Apply log_softmax for CTC\n",
    "        \n",
    "        # Get the actual sequence length T from log_probs\n",
    "        T, _, _ = log_probs.shape  # T is the actual sequence length\n",
    "        prediction_sizes = torch.full((actual_batch_size,), T, dtype=torch.long).to(device)\n",
    "        \n",
    "        # Debugging: Ensure prediction_sizes values are valid\n",
    "        if (prediction_sizes > T).any():\n",
    "            raise ValueError(f\"prediction_sizes contains values greater than T={T}: {prediction_sizes}\")\n",
    "        \n",
    "        # Compute loss\n",
    "        loss = criterion(log_probs, labels, prediction_sizes, label_lengths)\n",
    "        \n",
    "        # Backward pass and optimize\n",
    "        loss.backward()\n",
    "        optimizer.step()\n",
    "        \n",
    "        total_loss += loss.item()\n",
    "    \n",
    "    avg_loss = total_loss / len(train_dataloader)\n",
    "    print(f\"Epoch [{epoch+1}/{num_epochs}], Average Loss: {avg_loss:.4f}\")"
   ]
  },
  {
   "cell_type": "code",
   "execution_count": null,
   "id": "3a22d46b",
   "metadata": {},
   "outputs": [],
   "source": [
    "# torch.save(model, \"ocr_model_final.pth\")\n"
   ]
  },
  {
   "cell_type": "code",
   "execution_count": 9,
   "id": "62b37cb9",
   "metadata": {},
   "outputs": [
    {
     "data": {
      "text/plain": [
       "CRNN(\n",
       "  (cnn): Sequential(\n",
       "    (conv0): Conv2d(1, 64, kernel_size=(3, 3), stride=(1, 1), padding=(1, 1))\n",
       "    (relu0): ReLU(inplace=True)\n",
       "    (pooling0): MaxPool2d(kernel_size=2, stride=2, padding=0, dilation=1, ceil_mode=False)\n",
       "    (conv1): Conv2d(64, 128, kernel_size=(3, 3), stride=(1, 1), padding=(1, 1))\n",
       "    (relu1): ReLU(inplace=True)\n",
       "    (pooling1): MaxPool2d(kernel_size=2, stride=2, padding=0, dilation=1, ceil_mode=False)\n",
       "    (conv2): Conv2d(128, 256, kernel_size=(3, 3), stride=(1, 1), padding=(1, 1))\n",
       "    (batchnorm2): BatchNorm2d(256, eps=1e-05, momentum=0.1, affine=True, track_running_stats=True)\n",
       "    (relu2): ReLU(inplace=True)\n",
       "    (conv3): Conv2d(256, 256, kernel_size=(3, 3), stride=(1, 1), padding=(1, 1))\n",
       "    (relu3): ReLU(inplace=True)\n",
       "    (pooling2): MaxPool2d(kernel_size=(2, 2), stride=(2, 1), padding=(0, 1), dilation=1, ceil_mode=False)\n",
       "    (conv4): Conv2d(256, 512, kernel_size=(3, 3), stride=(1, 1), padding=(1, 1))\n",
       "    (batchnorm4): BatchNorm2d(512, eps=1e-05, momentum=0.1, affine=True, track_running_stats=True)\n",
       "    (relu4): ReLU(inplace=True)\n",
       "    (conv5): Conv2d(512, 512, kernel_size=(3, 3), stride=(1, 1), padding=(1, 1))\n",
       "    (relu5): ReLU(inplace=True)\n",
       "    (pooling3): MaxPool2d(kernel_size=(2, 2), stride=(2, 1), padding=(0, 1), dilation=1, ceil_mode=False)\n",
       "    (conv6): Conv2d(512, 512, kernel_size=(2, 2), stride=(1, 1))\n",
       "    (batchnorm6): BatchNorm2d(512, eps=1e-05, momentum=0.1, affine=True, track_running_stats=True)\n",
       "    (relu6): ReLU(inplace=True)\n",
       "  )\n",
       "  (rnn): Sequential(\n",
       "    (0): BidirectionalLSTM(\n",
       "      (rnn): LSTM(512, 256, bidirectional=True)\n",
       "      (embedding): Linear(in_features=512, out_features=256, bias=True)\n",
       "    )\n",
       "    (1): BidirectionalLSTM(\n",
       "      (rnn): LSTM(256, 256, bidirectional=True)\n",
       "      (embedding): Linear(in_features=512, out_features=81, bias=True)\n",
       "    )\n",
       "  )\n",
       ")"
      ]
     },
     "execution_count": 9,
     "metadata": {},
     "output_type": "execute_result"
    }
   ],
   "source": [
    "test_model_ = CRNN()\n",
    "test_model_.load_state_dict(torch.load(\"ocr_model_final.pth\",weights_only=True))\n",
    "\n",
    "test_model_.eval()"
   ]
  },
  {
   "cell_type": "code",
   "execution_count": 21,
   "id": "48d5f405",
   "metadata": {},
   "outputs": [
    {
     "name": "stdout",
     "output_type": "stream",
     "text": [
      "Batch images shape: torch.Size([6, 1, 32, 106])\n",
      "Encoded labels shape: torch.Size([32])\n",
      "Label lengths: tensor([4, 5, 4, 4, 7, 8], dtype=torch.int32)\n"
     ]
    }
   ],
   "source": [
    "test_dir = \"/home/saurav/Desktop/Get_The_Text/data/test\"\n",
    "test_dataset = Ocr_Dataset(test_dir)\n",
    "\n",
    "test_dataloader = DataLoader(\n",
    "    dataset=test_dataset,\n",
    "    batch_size=32,\n",
    "    shuffle=True,\n",
    "    num_workers=4,\n",
    "    pin_memory=True,\n",
    "    collate_fn=SynthCollator()\n",
    ")\n",
    "for batch in test_dataloader:\n",
    "    images = batch['img']  # (batch_size, 1, H, max_width)\n",
    "    labels = batch['label']  # Encoded labels tensor\n",
    "    label_lengths = batch['label_lengths']  # Tensor of label lengths\n",
    "    print(f\"Batch images shape: {images.shape}\")\n",
    "    print(f\"Encoded labels shape: {labels.shape}\")\n",
    "    print(f\"Label lengths: {label_lengths}\")\n",
    "    break"
   ]
  },
  {
   "cell_type": "code",
   "execution_count": 22,
   "id": "d7d4dfd3",
   "metadata": {},
   "outputs": [],
   "source": [
    "device = torch.device(\"cuda:0\" if torch.cuda.is_available() else \"cpu\")\n",
    "def get_accuracy():\n",
    "\n",
    "    model = test_model_\n",
    "    model.eval()\n",
    "    converter = OCRLabelConverter(alphabet)\n",
    "\n",
    "    labels, predictions, images = [], [], []\n",
    "    with torch.no_grad():\n",
    "        for iteration, batch in enumerate(test_dataloader):\n",
    "            input_, targets = batch['img'].to(device), batch['label']\n",
    "            images.extend(input_.squeeze().detach())\n",
    "            labels.extend(targets)\n",
    "            targets = batch['label']\n",
    "            logits = model(input_).transpose(1, 0)\n",
    "            logits = torch.nn.functional.log_softmax(logits, 2)\n",
    "            logits = logits.contiguous().cpu()\n",
    "            T, B, H = logits.size()\n",
    "            pred_sizes = torch.LongTensor([T for i in range(B)])\n",
    "            probs, pos = logits.max(2)\n",
    "            pos = pos.transpose(1, 0).contiguous().view(-1)\n",
    "            sim_preds = converter.decode(pos.data, pred_sizes.data, raw=False)\n",
    "            predictions.extend(sim_preds)\n",
    "            \n",
    "#make_grid(images[:10], nrow=2)\n",
    "    fig=plt.figure(figsize=(8, 8))\n",
    "    columns = 4\n",
    "    rows = 5\n",
    "    pairs = list(zip(images, predictions))\n",
    "    indices = np.random.permutation(len(pairs))\n",
    "    for i in range(1, columns*rows +1):\n",
    "        img = images[indices[i]]\n",
    "        img = (img - img.min())/(img.max() - img.min())\n",
    "        img = np.array(img * 255.0, dtype=np.uint8)\n",
    "        fig.add_subplot(rows, columns, i)\n",
    "        plt.title(predictions[indices[i]])\n",
    "        plt.axis('off')\n",
    "        plt.imshow(img)\n",
    "    plt.show()"
   ]
  },
  {
   "cell_type": "code",
   "execution_count": 24,
   "id": "633a55d2",
   "metadata": {},
   "outputs": [
    {
     "data": {
      "image/png": "[encoded data removed]",
      "text/plain": [
       "<Figure size 800x800 with 5 Axes>"
      ]
     },
     "metadata": {},
     "output_type": "display_data"
    }
   ],
   "source": [
    "try:\n",
    "    get_accuracy()\n",
    "except:\n",
    "    pass"
   ]
  }
 ],
 "metadata": {
  "kernelspec": {
   "display_name": "Python 3",
   "language": "python",
   "name": "python3"
  },
  "language_info": {
   "codemirror_mode": {
    "name": "ipython",
    "version": 3
   },
   "file_extension": ".py",
   "mimetype": "text/x-python",
   "name": "python",
   "nbconvert_exporter": "python",
   "pygments_lexer": "ipython3",
   "version": "3.12.3"
  }
 },
 "nbformat": 4,
 "nbformat_minor": 5
}
